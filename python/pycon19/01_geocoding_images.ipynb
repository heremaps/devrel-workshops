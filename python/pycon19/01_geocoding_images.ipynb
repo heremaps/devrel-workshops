{
 "cells": [
  {
   "cell_type": "markdown",
   "metadata": {},
   "source": [
    "# Analyzing Image Metadata\n",
    "\n",
    "Exchangeable image file format (Exif) has been a standard around since 1998 to include metadata in image file formats like JPEG, WAV, HEIC, and WEBP.  Digital cameras and smart phones with GPS receivers have also included geolocation coordinates.  This is a good application of reverse geocoding.\n",
    "\n",
    "![image.jpg](./image.jpg)\n",
    "\n",
    "Read this blog post for more background:\n",
    "\n",
    "https://developer.here.com/blog/getting-started-with-geocoding-exif-image-metadata-in-python3"
   ]
  },
  {
   "cell_type": "code",
   "execution_count": 1,
   "metadata": {},
   "outputs": [],
   "source": [
    "from PIL import Image\n",
    "\n",
    "def get_exif(filename):\n",
    "    image = Image.open(filename)\n",
    "    image.verify()\n",
    "    return image._getexif()"
   ]
  },
  {
   "cell_type": "code",
   "execution_count": 5,
   "metadata": {},
   "outputs": [
    {
     "data": {
      "text/plain": [
       "{34853: {1: 'N',\n",
       "  2: ((36, 1), (29, 1), (902, 100)),\n",
       "  3: 'W',\n",
       "  4: ((114, 1), (31, 1), (2481, 100)),\n",
       "  5: b'\\x00',\n",
       "  6: (1030399, 1770),\n",
       "  7: ((0, 1), (35, 1), (40, 1)),\n",
       "  12: 'K',\n",
       "  13: (0, 1),\n",
       "  16: 'T',\n",
       "  17: (347654, 981),\n",
       "  23: 'T',\n",
       "  24: (347654, 981),\n",
       "  29: '2019:01:22',\n",
       "  31: (5, 1)},\n",
       " 296: 2,\n",
       " 34665: 206,\n",
       " 271: 'Apple',\n",
       " 272: 'iPhone 8',\n",
       " 305: '12.1.2',\n",
       " 274: 1,\n",
       " 306: '2019:01:21 16:35:40',\n",
       " 531: 1,\n",
       " 282: (72, 1),\n",
       " 283: (72, 1),\n",
       " 36864: b'0221',\n",
       " 37121: b'\\x01\\x02\\x03\\x00',\n",
       " 37377: (247576, 35831),\n",
       " 36867: '2019:01:21 16:35:40',\n",
       " 36868: '2019:01:21 16:35:40',\n",
       " 37378: (54823, 32325),\n",
       " 37379: (53389, 8769),\n",
       " 37380: (0, 1),\n",
       " 37383: 5,\n",
       " 37385: 16,\n",
       " 37386: (399, 100),\n",
       " 40961: 65535,\n",
       " 40962: 4032,\n",
       " 41989: 28,\n",
       " 41990: 0,\n",
       " 40963: 3024,\n",
       " 37521: '561',\n",
       " 37522: '561',\n",
       " 37396: (2015, 1511, 2217, 1330),\n",
       " 41495: 2,\n",
       " 33434: (1, 120),\n",
       " 33437: (9, 5),\n",
       " 41729: b'\\x01',\n",
       " 34850: 2,\n",
       " 34855: 25,\n",
       " 41986: 0,\n",
       " 40960: b'0100',\n",
       " 41987: 0,\n",
       " 42034: ((4183519, 1048501), (4183519, 1048501), (9, 5), (9, 5)),\n",
       " 42035: 'Apple',\n",
       " 42036: 'iPhone 8 back camera 3.99mm f/1.8',\n",
       " 37500: b'Apple iOS\\x00\\x00\\x01MM\\x00\\x15\\x00\\x01\\x00\\t\\x00\\x00\\x00\\x01\\x00\\x00\\x00\\n\\x00\\x02\\x00\\x07\\x00\\x00\\x02.\\x00\\x00\\x01\\x10\\x00\\x03\\x00\\x07\\x00\\x00\\x00h\\x00\\x00\\x03>\\x00\\x04\\x00\\t\\x00\\x00\\x00\\x01\\x00\\x00\\x00\\x01\\x00\\x05\\x00\\t\\x00\\x00\\x00\\x01\\x00\\x00\\x00\\xb2\\x00\\x06\\x00\\t\\x00\\x00\\x00\\x01\\x00\\x00\\x00\\xb0\\x00\\x07\\x00\\t\\x00\\x00\\x00\\x01\\x00\\x00\\x00\\x01\\x00\\x08\\x00\\n\\x00\\x00\\x00\\x03\\x00\\x00\\x03\\xa6\\x00\\x0c\\x00\\n\\x00\\x00\\x00\\x02\\x00\\x00\\x03\\xbe\\x00\\r\\x00\\t\\x00\\x00\\x00\\x01\\x00\\x00\\x00\\'\\x00\\x0e\\x00\\t\\x00\\x00\\x00\\x01\\x00\\x00\\x00\\x04\\x00\\x10\\x00\\t\\x00\\x00\\x00\\x01\\x00\\x00\\x00\\x01\\x00\\x14\\x00\\t\\x00\\x00\\x00\\x01\\x00\\x00\\x00\\x01\\x00\\x17\\x00\\t\\x00\\x00\\x00\\x01\\x00\\x00 \\x00\\x00\\x19\\x00\\t\\x00\\x00\\x00\\x01\\x00\\x00\\x00\\x00\\x00\\x1a\\x00\\x02\\x00\\x00\\x00\\x06\\x00\\x00\\x03\\xce\\x00\\x1f\\x00\\t\\x00\\x00\\x00\\x01\\x00\\x00\\x00\\x00\\x00!\\x00\\n\\x00\\x00\\x00\\x01\\x00\\x00\\x03\\xd4\\x00%\\x00\\t\\x00\\x00\\x00\\x01\\x00\\x00\\x00\\x00\\x00&\\x00\\t\\x00\\x00\\x00\\x01\\x00\\x00\\x00\\x00\\x00\\'\\x00\\n\\x00\\x00\\x00\\x01\\x00\\x00\\x03\\xdc\\x00\\x00\\x00\\x00bplist00O\\x11\\x02\\x00}\\x01y\\x01z\\x01\\x89\\x01\\xc2\\x01\\xe4\\x01)\\x02\"\\x02\\xa3\\x01\\x8b\\x01n\\x01b\\x01=\\x01%\\x01\\x0b\\x01\\x11\\x01v\\x01\\x97\\x01\\x91\\x01\\x8d\\x01\\xca\\x01\\x97\\x02\\xa9\\x02\\x07\\x02\\xa2\\x01\\x84\\x01\\x7f\\x01w\\x01?\\x01\\x0e\\x01\\xf7\\x00\\xf5\\x00\\x94\\x01\\x9a\\x01\\xb1\\x01\\xcc\\x01\\xb3\\x01\\xfa\\x01\\xaa\\x02\\xf6\\x01r\\x01Q\\x01I\\x01A\\x01\\x17\\x01\\xef\\x00\\xe4\\x00\\xe0\\x00\\xc0\\x01\\xc5\\x01\\xc5\\x01\\'\\x02\\x8c\\x02\\xd8\\x01\\xca\\x01\\xbd\\x01V\\x016\\x01)\\x01\\x15\\x01\\xf3\\x00\\xe0\\x00\\xdf\\x00\\xda\\x006\\x00\\xf2\\x00\\x97\\x01H\\x02\\xe8\\x02b\\x02\\xb8\\x01\\x94\\x01[\\x01a\\x01G\\x01\\x0c\\x01\\xf5\\x00\\xea\\x00\\xf3\\x00\\xfb\\x00\"\\x00 \\x00-\\x00\\xa2\\x01\\x04\\x02-\\x02\\x1d\\x02]\\x02\\x0c\\x02Y\\x01\\x0c\\x01\\xf4\\x00\\x0f\\x01\\x06\\x01\\xf8\\x00\\xec\\x00 \\x00!\\x00\\x19\\x001\\x00S\\x00\\xf9\\x01A\\x02\\xf2\\x01.\\x000\\x00O\\x00K\\x00b\\x00\\xb2\\x00\\xdc\\x00\\xe1\\x00\\x1f\\x00!\\x00\\x1f\\x00 \\x00\\x1f\\x00\\x83\\x00\\x01\\x01\\x88\\x00`\\x00V\\x00E\\x00(\\x00%\\x00\"\\x001\\x00X\\x00 \\x00\"\\x00%\\x00/\\x001\\x00S\\x00d\\x00i\\x00u\\x00z\\x00f\\x00G\\x00I\\x00G\\x008\\x002\\x005\\x005\\x00C\\x00U\\x00R\\x00L\\x00L\\x00J\\x00L\\x00U\\x00]\\x00g\\x00m\\x00n\\x00d\\x00M\\x00+\\x006\\x00N\\x00Q\\x00Q\\x00Q\\x00N\\x00N\\x00O\\x00L\\x00L\\x00L\\x00O\\x00^\\x00_\\x00a\\x001\\x00+\\x008\\x00M\\x00Y\\x00R\\x00S\\x00U\\x00N\\x00N\\x00R\\x00S\\x00O\\x00N\\x00H\\x00I\\x006\\x007\\x007\\x00<\\x00Z\\x00G\\x00;\\x00X\\x00P\\x00R\\x00R\\x00U\\x00X\\x00Y\\x00T\\x00P\\x00\\'\\x000\\x008\\x006\\x00?\\x007\\x00.\\x00O\\x00h\\x00k\\x00U\\x00P\\x00O\\x00O\\x00X\\x00T\\x000\\x005\\x00E\\x00-\\x001\\x00I\\x00J\\x00K\\x00V\\x00Z\\x00j\\x00m\\x00e\\x00Y\\x00P\\x00M\\x00<\\x00@\\x00X\\x00X\\x00D\\x00H\\x00N\\x00D\\x00M\\x00S\\x00U\\x00[\\x00c\\x00b\\x00`\\x00W\\x00\\x00\\x08\\x00\\x00\\x00\\x00\\x00\\x00\\x02\\x01\\x00\\x00\\x00\\x00\\x00\\x00\\x00\\x01\\x00\\x00\\x00\\x00\\x00\\x00\\x00\\x00\\x00\\x00\\x00\\x00\\x00\\x00\\x02\\x0cbplist00\\xd4\\x01\\x02\\x03\\x04\\x05\\x06\\x07\\x08UflagsUvalueYtimescaleUepoch\\x10\\x01\\x13\\x00\\x01\\xed\\xccoj\\xc0>\\x12;\\x9a\\xca\\x00\\x10\\x00\\x08\\x11\\x17\\x1d\\'-/8=\\x00\\x00\\x00\\x00\\x00\\x00\\x01\\x01\\x00\\x00\\x00\\x00\\x00\\x00\\x00\\t\\x00\\x00\\x00\\x00\\x00\\x00\\x00\\x00\\x00\\x00\\x00\\x00\\x00\\x00\\x00?\\xff\\xffB\\xa3\\x00\\x00\\xba\\xd0\\x00\\x00\\x04+\\x00\\x04t=\\x00\\x00>\\xdd\\x00\\x01\\xecT\\x00\\x00\\x01\\x85\\x00\\x00\\x00 \\x00\\x00\\x05\\r\\x00\\x00\\x01\\x00q825s\\x00\\x00\\x00\\x00\\x00\\x00\\x00\\x00\\x01\\x00\\x00\\x00\\x00\\x00\\x00\\x00\\x01'}"
      ]
     },
     "execution_count": 5,
     "metadata": {},
     "output_type": "execute_result"
    }
   ],
   "source": [
    "exif = get_exif('image.jpg')\n",
    "exif"
   ]
  },
  {
   "cell_type": "code",
   "execution_count": 4,
   "metadata": {},
   "outputs": [],
   "source": [
    "from PIL.ExifTags import TAGS\n",
    "\n",
    "def get_labeled_exif(exif):\n",
    "    labeled = {}\n",
    "    for (key, val) in exif.items():\n",
    "        labeled[TAGS.get(key)] = val\n",
    "        \n",
    "    return labeled"
   ]
  },
  {
   "cell_type": "code",
   "execution_count": 6,
   "metadata": {},
   "outputs": [
    {
     "data": {
      "text/plain": [
       "{'GPSInfo': {1: 'N',\n",
       "  2: ((36, 1), (29, 1), (902, 100)),\n",
       "  3: 'W',\n",
       "  4: ((114, 1), (31, 1), (2481, 100)),\n",
       "  5: b'\\x00',\n",
       "  6: (1030399, 1770),\n",
       "  7: ((0, 1), (35, 1), (40, 1)),\n",
       "  12: 'K',\n",
       "  13: (0, 1),\n",
       "  16: 'T',\n",
       "  17: (347654, 981),\n",
       "  23: 'T',\n",
       "  24: (347654, 981),\n",
       "  29: '2019:01:22',\n",
       "  31: (5, 1)},\n",
       " 'ResolutionUnit': 2,\n",
       " 'ExifOffset': 206,\n",
       " 'Make': 'Apple',\n",
       " 'Model': 'iPhone 8',\n",
       " 'Software': '12.1.2',\n",
       " 'Orientation': 1,\n",
       " 'DateTime': '2019:01:21 16:35:40',\n",
       " 'YCbCrPositioning': 1,\n",
       " 'XResolution': (72, 1),\n",
       " 'YResolution': (72, 1),\n",
       " 'ExifVersion': b'0221',\n",
       " 'ComponentsConfiguration': b'\\x01\\x02\\x03\\x00',\n",
       " 'ShutterSpeedValue': (247576, 35831),\n",
       " 'DateTimeOriginal': '2019:01:21 16:35:40',\n",
       " 'DateTimeDigitized': '2019:01:21 16:35:40',\n",
       " 'ApertureValue': (54823, 32325),\n",
       " 'BrightnessValue': (53389, 8769),\n",
       " 'ExposureBiasValue': (0, 1),\n",
       " 'MeteringMode': 5,\n",
       " 'Flash': 16,\n",
       " 'FocalLength': (399, 100),\n",
       " 'ColorSpace': 65535,\n",
       " 'ExifImageWidth': 4032,\n",
       " 'FocalLengthIn35mmFilm': 28,\n",
       " 'SceneCaptureType': 0,\n",
       " 'ExifImageHeight': 3024,\n",
       " 'SubsecTimeOriginal': '561',\n",
       " 'SubsecTimeDigitized': '561',\n",
       " 'SubjectLocation': (2015, 1511, 2217, 1330),\n",
       " 'SensingMethod': 2,\n",
       " 'ExposureTime': (1, 120),\n",
       " 'FNumber': (9, 5),\n",
       " 'SceneType': b'\\x01',\n",
       " 'ExposureProgram': 2,\n",
       " 'ISOSpeedRatings': 25,\n",
       " 'ExposureMode': 0,\n",
       " 'FlashPixVersion': b'0100',\n",
       " 'WhiteBalance': 0,\n",
       " 'LensSpecification': ((4183519, 1048501), (4183519, 1048501), (9, 5), (9, 5)),\n",
       " 'LensMake': 'Apple',\n",
       " 'LensModel': 'iPhone 8 back camera 3.99mm f/1.8',\n",
       " 'MakerNote': b'Apple iOS\\x00\\x00\\x01MM\\x00\\x15\\x00\\x01\\x00\\t\\x00\\x00\\x00\\x01\\x00\\x00\\x00\\n\\x00\\x02\\x00\\x07\\x00\\x00\\x02.\\x00\\x00\\x01\\x10\\x00\\x03\\x00\\x07\\x00\\x00\\x00h\\x00\\x00\\x03>\\x00\\x04\\x00\\t\\x00\\x00\\x00\\x01\\x00\\x00\\x00\\x01\\x00\\x05\\x00\\t\\x00\\x00\\x00\\x01\\x00\\x00\\x00\\xb2\\x00\\x06\\x00\\t\\x00\\x00\\x00\\x01\\x00\\x00\\x00\\xb0\\x00\\x07\\x00\\t\\x00\\x00\\x00\\x01\\x00\\x00\\x00\\x01\\x00\\x08\\x00\\n\\x00\\x00\\x00\\x03\\x00\\x00\\x03\\xa6\\x00\\x0c\\x00\\n\\x00\\x00\\x00\\x02\\x00\\x00\\x03\\xbe\\x00\\r\\x00\\t\\x00\\x00\\x00\\x01\\x00\\x00\\x00\\'\\x00\\x0e\\x00\\t\\x00\\x00\\x00\\x01\\x00\\x00\\x00\\x04\\x00\\x10\\x00\\t\\x00\\x00\\x00\\x01\\x00\\x00\\x00\\x01\\x00\\x14\\x00\\t\\x00\\x00\\x00\\x01\\x00\\x00\\x00\\x01\\x00\\x17\\x00\\t\\x00\\x00\\x00\\x01\\x00\\x00 \\x00\\x00\\x19\\x00\\t\\x00\\x00\\x00\\x01\\x00\\x00\\x00\\x00\\x00\\x1a\\x00\\x02\\x00\\x00\\x00\\x06\\x00\\x00\\x03\\xce\\x00\\x1f\\x00\\t\\x00\\x00\\x00\\x01\\x00\\x00\\x00\\x00\\x00!\\x00\\n\\x00\\x00\\x00\\x01\\x00\\x00\\x03\\xd4\\x00%\\x00\\t\\x00\\x00\\x00\\x01\\x00\\x00\\x00\\x00\\x00&\\x00\\t\\x00\\x00\\x00\\x01\\x00\\x00\\x00\\x00\\x00\\'\\x00\\n\\x00\\x00\\x00\\x01\\x00\\x00\\x03\\xdc\\x00\\x00\\x00\\x00bplist00O\\x11\\x02\\x00}\\x01y\\x01z\\x01\\x89\\x01\\xc2\\x01\\xe4\\x01)\\x02\"\\x02\\xa3\\x01\\x8b\\x01n\\x01b\\x01=\\x01%\\x01\\x0b\\x01\\x11\\x01v\\x01\\x97\\x01\\x91\\x01\\x8d\\x01\\xca\\x01\\x97\\x02\\xa9\\x02\\x07\\x02\\xa2\\x01\\x84\\x01\\x7f\\x01w\\x01?\\x01\\x0e\\x01\\xf7\\x00\\xf5\\x00\\x94\\x01\\x9a\\x01\\xb1\\x01\\xcc\\x01\\xb3\\x01\\xfa\\x01\\xaa\\x02\\xf6\\x01r\\x01Q\\x01I\\x01A\\x01\\x17\\x01\\xef\\x00\\xe4\\x00\\xe0\\x00\\xc0\\x01\\xc5\\x01\\xc5\\x01\\'\\x02\\x8c\\x02\\xd8\\x01\\xca\\x01\\xbd\\x01V\\x016\\x01)\\x01\\x15\\x01\\xf3\\x00\\xe0\\x00\\xdf\\x00\\xda\\x006\\x00\\xf2\\x00\\x97\\x01H\\x02\\xe8\\x02b\\x02\\xb8\\x01\\x94\\x01[\\x01a\\x01G\\x01\\x0c\\x01\\xf5\\x00\\xea\\x00\\xf3\\x00\\xfb\\x00\"\\x00 \\x00-\\x00\\xa2\\x01\\x04\\x02-\\x02\\x1d\\x02]\\x02\\x0c\\x02Y\\x01\\x0c\\x01\\xf4\\x00\\x0f\\x01\\x06\\x01\\xf8\\x00\\xec\\x00 \\x00!\\x00\\x19\\x001\\x00S\\x00\\xf9\\x01A\\x02\\xf2\\x01.\\x000\\x00O\\x00K\\x00b\\x00\\xb2\\x00\\xdc\\x00\\xe1\\x00\\x1f\\x00!\\x00\\x1f\\x00 \\x00\\x1f\\x00\\x83\\x00\\x01\\x01\\x88\\x00`\\x00V\\x00E\\x00(\\x00%\\x00\"\\x001\\x00X\\x00 \\x00\"\\x00%\\x00/\\x001\\x00S\\x00d\\x00i\\x00u\\x00z\\x00f\\x00G\\x00I\\x00G\\x008\\x002\\x005\\x005\\x00C\\x00U\\x00R\\x00L\\x00L\\x00J\\x00L\\x00U\\x00]\\x00g\\x00m\\x00n\\x00d\\x00M\\x00+\\x006\\x00N\\x00Q\\x00Q\\x00Q\\x00N\\x00N\\x00O\\x00L\\x00L\\x00L\\x00O\\x00^\\x00_\\x00a\\x001\\x00+\\x008\\x00M\\x00Y\\x00R\\x00S\\x00U\\x00N\\x00N\\x00R\\x00S\\x00O\\x00N\\x00H\\x00I\\x006\\x007\\x007\\x00<\\x00Z\\x00G\\x00;\\x00X\\x00P\\x00R\\x00R\\x00U\\x00X\\x00Y\\x00T\\x00P\\x00\\'\\x000\\x008\\x006\\x00?\\x007\\x00.\\x00O\\x00h\\x00k\\x00U\\x00P\\x00O\\x00O\\x00X\\x00T\\x000\\x005\\x00E\\x00-\\x001\\x00I\\x00J\\x00K\\x00V\\x00Z\\x00j\\x00m\\x00e\\x00Y\\x00P\\x00M\\x00<\\x00@\\x00X\\x00X\\x00D\\x00H\\x00N\\x00D\\x00M\\x00S\\x00U\\x00[\\x00c\\x00b\\x00`\\x00W\\x00\\x00\\x08\\x00\\x00\\x00\\x00\\x00\\x00\\x02\\x01\\x00\\x00\\x00\\x00\\x00\\x00\\x00\\x01\\x00\\x00\\x00\\x00\\x00\\x00\\x00\\x00\\x00\\x00\\x00\\x00\\x00\\x00\\x02\\x0cbplist00\\xd4\\x01\\x02\\x03\\x04\\x05\\x06\\x07\\x08UflagsUvalueYtimescaleUepoch\\x10\\x01\\x13\\x00\\x01\\xed\\xccoj\\xc0>\\x12;\\x9a\\xca\\x00\\x10\\x00\\x08\\x11\\x17\\x1d\\'-/8=\\x00\\x00\\x00\\x00\\x00\\x00\\x01\\x01\\x00\\x00\\x00\\x00\\x00\\x00\\x00\\t\\x00\\x00\\x00\\x00\\x00\\x00\\x00\\x00\\x00\\x00\\x00\\x00\\x00\\x00\\x00?\\xff\\xffB\\xa3\\x00\\x00\\xba\\xd0\\x00\\x00\\x04+\\x00\\x04t=\\x00\\x00>\\xdd\\x00\\x01\\xecT\\x00\\x00\\x01\\x85\\x00\\x00\\x00 \\x00\\x00\\x05\\r\\x00\\x00\\x01\\x00q825s\\x00\\x00\\x00\\x00\\x00\\x00\\x00\\x00\\x01\\x00\\x00\\x00\\x00\\x00\\x00\\x00\\x01'}"
      ]
     },
     "execution_count": 6,
     "metadata": {},
     "output_type": "execute_result"
    }
   ],
   "source": [
    "exif = get_exif('image.jpg')\n",
    "labeled = get_labeled_exif(exif)\n",
    "labeled"
   ]
  },
  {
   "cell_type": "code",
   "execution_count": 8,
   "metadata": {},
   "outputs": [],
   "source": [
    "from PIL.ExifTags import GPSTAGS\n",
    "\n",
    "def get_geotagging(exif):\n",
    "    if not exif:\n",
    "        raise ValueError(\"No EXIF metadata found\")\n",
    "        \n",
    "    geotagging = {}\n",
    "    for (idx, tag) in TAGS.items():\n",
    "        if tag == 'GPSInfo':\n",
    "            if idx not in exif:\n",
    "                raise ValueError(\"No EXIF geotagging found\")\n",
    "\n",
    "            for (key, val) in GPSTAGS.items():\n",
    "                if key in exif[idx]:\n",
    "                    geotagging[val] = exif[idx][key]\n",
    "\n",
    "    return geotagging"
   ]
  },
  {
   "cell_type": "code",
   "execution_count": 9,
   "metadata": {},
   "outputs": [
    {
     "data": {
      "text/plain": [
       "{'GPSLatitudeRef': 'N',\n",
       " 'GPSLatitude': ((36, 1), (29, 1), (902, 100)),\n",
       " 'GPSLongitudeRef': 'W',\n",
       " 'GPSLongitude': ((114, 1), (31, 1), (2481, 100)),\n",
       " 'GPSAltitudeRef': b'\\x00',\n",
       " 'GPSAltitude': (1030399, 1770),\n",
       " 'GPSTimeStamp': ((0, 1), (35, 1), (40, 1)),\n",
       " 'GPSSpeedRef': 'K',\n",
       " 'GPSSpeed': (0, 1),\n",
       " 'GPSImgDirectionRef': 'T',\n",
       " 'GPSImgDirection': (347654, 981),\n",
       " 'GPSDestBearingRef': 'T',\n",
       " 'GPSDestBearing': (347654, 981),\n",
       " 'GPSDateStamp': '2019:01:22',\n",
       " 'GPSHPositioningError': (5, 1)}"
      ]
     },
     "execution_count": 9,
     "metadata": {},
     "output_type": "execute_result"
    }
   ],
   "source": [
    "exif = get_exif('image.jpg')\n",
    "geotags = get_geotagging(exif)\n",
    "geotags"
   ]
  },
  {
   "cell_type": "code",
   "execution_count": 10,
   "metadata": {},
   "outputs": [],
   "source": [
    "def get_decimal_from_dms(dms, ref):\n",
    "\n",
    "    degrees = dms[0][0] / dms[0][1]\n",
    "    minutes = dms[1][0] / dms[1][1] / 60.0\n",
    "    seconds = dms[2][0] / dms[2][1] / 3600.0\n",
    "\n",
    "    if ref in ['S', 'W']:\n",
    "        degrees = -degrees\n",
    "        minutes = -minutes\n",
    "        seconds = -seconds\n",
    "\n",
    "    return round(degrees + minutes + seconds, 5)\n",
    "\n",
    "def get_coordinates(geotags):\n",
    "    lat = get_decimal_from_dms(geotags['GPSLatitude'], geotags['GPSLatitudeRef'])\n",
    "    lon = get_decimal_from_dms(geotags['GPSLongitude'], geotags['GPSLongitudeRef'])\n",
    "\n",
    "    return (lat,lon)"
   ]
  },
  {
   "cell_type": "code",
   "execution_count": 11,
   "metadata": {},
   "outputs": [
    {
     "data": {
      "text/plain": [
       "(36.48584, -114.52356)"
      ]
     },
     "execution_count": 11,
     "metadata": {},
     "output_type": "execute_result"
    }
   ],
   "source": [
    "exif = get_exif('image.jpg')\n",
    "geotags = get_geotagging(exif)\n",
    "coords = get_coordinates(geotags)\n",
    "coords"
   ]
  },
  {
   "cell_type": "markdown",
   "metadata": {},
   "source": [
    "# Try It\n",
    "\n",
    "Find an image that has some geotags and try to find the corresponding street address with the reverse geocoder examples."
   ]
  }
 ],
 "metadata": {
  "kernelspec": {
   "display_name": "Python 3",
   "language": "python",
   "name": "python3"
  },
  "language_info": {
   "codemirror_mode": {
    "name": "ipython",
    "version": 3
   },
   "file_extension": ".py",
   "mimetype": "text/x-python",
   "name": "python",
   "nbconvert_exporter": "python",
   "pygments_lexer": "ipython3",
   "version": "3.7.0"
  }
 },
 "nbformat": 4,
 "nbformat_minor": 2
}
