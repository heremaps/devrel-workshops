{
 "cells": [
  {
   "cell_type": "markdown",
   "metadata": {},
   "source": [
    "# Maps\n",
    "A map can be a static image or it can be an interactive tool that allows the user to zoom, pan, and scroll around a location. An interactive map is made up of sections that make up a grid called tiles. These tiles can be raster images (png) or vector tiles."
   ]
  },
  {
   "cell_type": "markdown",
   "metadata": {},
   "source": [
    "## Leaflet with OSM\n",
    "\n",
    "Open Street Maps (OSM) provides tiles and can be a good starting point which which is why they are the default with Leaflet, a popular JavaScript library for rendering maps."
   ]
  },
  {
   "cell_type": "code",
   "execution_count": 1,
   "metadata": {},
   "outputs": [],
   "source": [
    "from ipyleaflet import Map"
   ]
  },
  {
   "cell_type": "code",
   "execution_count": 3,
   "metadata": {},
   "outputs": [
    {
     "data": {
      "application/vnd.jupyter.widget-view+json": {
       "model_id": "533ecce3b195462682cedcec81fc0f5b",
       "version_major": 2,
       "version_minor": 0
      },
      "text/plain": [
       "Map(basemap={'url': 'https://{s}.tile.openstreetmap.org/{z}/{x}/{y}.png', 'max_zoom': 19, 'attribution': 'Map …"
      ]
     },
     "metadata": {},
     "output_type": "display_data"
    }
   ],
   "source": [
    "Map(center=(41.5, -81.6), zoom=11)"
   ]
  },
  {
   "cell_type": "code",
   "execution_count": 4,
   "metadata": {},
   "outputs": [
    {
     "data": {
      "text/plain": [
       "{'url': 'https://{s}.tile.openstreetmap.org/{z}/{x}/{y}.png',\n",
       " 'max_zoom': 19,\n",
       " 'attribution': 'Map data (c) <a href=\"https://openstreetmap.org\">OpenStreetMap</a> contributors'}"
      ]
     },
     "execution_count": 4,
     "metadata": {},
     "output_type": "execute_result"
    }
   ],
   "source": [
    "_.basemap"
   ]
  },
  {
   "cell_type": "code",
   "execution_count": 20,
   "metadata": {},
   "outputs": [
    {
     "data": {
      "text/plain": [
       "dict_keys(['OpenStreetMap', 'OpenTopoMap', 'OpenMapSurfer', 'Hydda', 'Esri', 'HikeBike', 'MtbMap', 'CartoDB', 'NASAGIBS', 'Strava', 'Stamen'])"
      ]
     },
     "execution_count": 20,
     "metadata": {},
     "output_type": "execute_result"
    }
   ],
   "source": [
    "from ipyleaflet import basemaps, basemap_to_tiles\n",
    "\n",
    "basemaps.keys()"
   ]
  },
  {
   "cell_type": "code",
   "execution_count": 21,
   "metadata": {},
   "outputs": [
    {
     "data": {
      "text/plain": [
       "['Terrain', 'Toner', 'Watercolor']"
      ]
     },
     "execution_count": 21,
     "metadata": {},
     "output_type": "execute_result"
    }
   ],
   "source": [
    "list(basemaps.Stamen.keys())"
   ]
  },
  {
   "cell_type": "code",
   "execution_count": 18,
   "metadata": {},
   "outputs": [
    {
     "data": {
      "application/vnd.jupyter.widget-view+json": {
       "model_id": "165310206fc249ebae41cbb8398deb04",
       "version_major": 2,
       "version_minor": 0
      },
      "text/plain": [
       "interactive(children=(Dropdown(description='tiles', options=('basemaps.Stamen.Watercolor', 'basemaps.Stamen.Te…"
      ]
     },
     "metadata": {},
     "output_type": "display_data"
    }
   ],
   "source": [
    "\n",
    "from ipywidgets import interact\n",
    "\n",
    "tiles = [\n",
    "    'basemaps.Stamen.Watercolor',\n",
    "    'basemaps.Stamen.Terrain',\n",
    "    'basemaps.Stamen.Toner'\n",
    "]\n",
    "\n",
    "@interact(tiles=tiles, zoom=(1, 18))\n",
    "def create_map(tiles=tiles[0], zoom=10):\n",
    "    lat, lon = 41.5, -81.6\n",
    "    toner = basemap_to_tiles(eval(tiles))\n",
    "    return Map(center=(lat, lon), layers=[toner], zoom=zoom)"
   ]
  },
  {
   "cell_type": "markdown",
   "metadata": {},
   "source": [
    "## Leaflet with HERE Maps\n",
    "\n",
    "Leaflet can also be used with any basemap tile provider such as those from HERE."
   ]
  },
  {
   "cell_type": "code",
   "execution_count": 5,
   "metadata": {},
   "outputs": [],
   "source": [
    "import os\n",
    "\n",
    "APP_ID_HERE = os.environ['APP_ID_HERE']\n",
    "APP_CODE_HERE = os.environ['APP_CODE_HERE']"
   ]
  },
  {
   "cell_type": "code",
   "execution_count": 8,
   "metadata": {
    "scrolled": true
   },
   "outputs": [
    {
     "data": {
      "application/vnd.jupyter.widget-view+json": {
       "model_id": "9bb9ed2df9314b65a56cc267cc2810a8",
       "version_major": 2,
       "version_minor": 0
      },
      "text/plain": [
       "Map(basemap={'url': 'https://1.traffic.maps.api.here.com/maptile/2.1/traffictile/newest/normal.day/{z}/{x}/{y}…"
      ]
     },
     "metadata": {},
     "output_type": "display_data"
    }
   ],
   "source": [
    "attribution = '<a href=\"http://here.com\">HERE</a>'\n",
    "tile_pattern = (\"https://1.{maptype}.maps.api.here.com\"\n",
    "           \"/maptile/2.1/{tiletype}/newest/{scheme}/{{z}}/{{x}}/{{y}}/{tilesize}/{format}\"\n",
    "           f\"?app_id={APP_ID_HERE}&app_code={APP_CODE_HERE}\")\n",
    "params = {\n",
    "    'app_id': APP_ID_HERE,\n",
    "    'app_code': APP_CODE_HERE,\n",
    "    'maptype': 'traffic',\n",
    "    'tiletype': 'traffictile',\n",
    "    'scheme': 'normal.day',\n",
    "    'tilesize': '256',\n",
    "    'format': 'png8'\n",
    "}\n",
    "heremap = {\n",
    "    'url' : tile_pattern.format(**params), \n",
    "    'attribution' : attribution\n",
    "}\n",
    "Map(center=(41.5, -81.6), zoom=11, basemap=heremap)"
   ]
  },
  {
   "cell_type": "code",
   "execution_count": 22,
   "metadata": {},
   "outputs": [
    {
     "data": {
      "application/vnd.jupyter.widget-view+json": {
       "model_id": "000c6e17ea4c4960af78da380698a03a",
       "version_major": 2,
       "version_minor": 0
      },
      "text/plain": [
       "Map(basemap={'url': 'https://1.base.maps.api.here.com/maptile/2.1/trucktile/newest/normal.day/{z}/{x}/{y}/256/…"
      ]
     },
     "metadata": {},
     "output_type": "display_data"
    }
   ],
   "source": [
    "params.update({'maptype': 'base', 'tiletype': 'trucktile'})\n",
    "heremap = {\n",
    "    'url' : tile_pattern.format(**params), \n",
    "    'attribution' : attribution\n",
    "}\n",
    "Map(center=(41.5, -81.6), zoom=11, basemap=heremap)"
   ]
  }
 ],
 "metadata": {
  "kernelspec": {
   "display_name": "Python 3",
   "language": "python",
   "name": "python3"
  },
  "language_info": {
   "codemirror_mode": {
    "name": "ipython",
    "version": 3
   },
   "file_extension": ".py",
   "mimetype": "text/x-python",
   "name": "python",
   "nbconvert_exporter": "python",
   "pygments_lexer": "ipython3",
   "version": "3.7.0"
  }
 },
 "nbformat": 4,
 "nbformat_minor": 2
}
