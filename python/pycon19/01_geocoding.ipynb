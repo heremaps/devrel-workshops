{
 "cells": [
  {
   "cell_type": "markdown",
   "metadata": {},
   "source": [
    "# Geocoding\n",
    "\n",
    "Geocoding is the process of getting coordinates (latitude, longitude) for a street address or landmark.  You can also do the reverse and get a street address for a given set of coordinates.  In order to accomplish this task you need an up to date system of record to map back and forth which is something the [HERE Geocoder API](https://developer.here.com/documentation/geocoder/topics/what-is.html) can provide.\n",
    "\n",
    "We'll look at a few common libraries that can be used for geocoding operations:\n",
    "* `requests`\n",
    "* `geopy`\n",
    "* `geocoder`\n",
    "* `geopandas`\n",
    "\n",
    "After looking at a few more variations you can experiment with a few example projects.\n",
    "\n",
    "* Analyzing Image Metadata\n",
    "* Analyzing Text"
   ]
  },
  {
   "cell_type": "markdown",
   "metadata": {},
   "source": [
    "# Credentials\n",
    "\n",
    "Access control for HERE services uses an APP_ID and APP_CODE that can be retrieved from the [Developer Portal](https://developer.here.com/projects) for your project.  I like to store these as environment variables."
   ]
  },
  {
   "cell_type": "code",
   "execution_count": null,
   "metadata": {},
   "outputs": [],
   "source": [
    "import os\n",
    "\n",
    "APP_ID_HERE = os.environ['APP_ID_HERE']\n",
    "APP_CODE_HERE = os.environ['APP_CODE_HERE']"
   ]
  },
  {
   "cell_type": "code",
   "execution_count": null,
   "metadata": {},
   "outputs": [],
   "source": [
    "TEST_ADDRESS = '300 Lakeside Ave. Cleveland, OH 44113'"
   ]
  },
  {
   "cell_type": "markdown",
   "metadata": {},
   "source": [
    "# Popular Python Libraries for Geocoding"
   ]
  },
  {
   "cell_type": "markdown",
   "metadata": {},
   "source": [
    "## Requests\n",
    "\n",
    "Simple example of making an HTTP call with the **requests** library to retrieve a street address."
   ]
  },
  {
   "cell_type": "code",
   "execution_count": null,
   "metadata": {},
   "outputs": [],
   "source": [
    "import json\n",
    "import requests\n",
    "\n",
    "uri = 'https://geocoder.api.here.com/6.2/geocode.json'\n",
    "params = {\n",
    "    'app_id': APP_ID_HERE,\n",
    "    'app_code': APP_CODE_HERE,\n",
    "    'searchtext': TEST_ADDRESS,\n",
    "}\n",
    "\n",
    "response = requests.get(uri, params=params)\n",
    "data = json.loads(response.text)\n",
    "print(json.dumps(data, indent=4, sort_keys=True))"
   ]
  },
  {
   "cell_type": "markdown",
   "metadata": {},
   "source": [
    "## Geopy\n",
    "\n",
    "A client to consider instead of direct `requests` is `geopy`.  It includes classes for multiple geocoder services including HERE.\n",
    "\n",
    "https://pypi.org/project/geopy/"
   ]
  },
  {
   "cell_type": "code",
   "execution_count": null,
   "metadata": {},
   "outputs": [],
   "source": [
    "from geopy.geocoders import Here\n",
    "\n",
    "geocoder = Here(APP_ID_HERE, APP_CODE_HERE)\n",
    "result = geocoder.geocode(TEST_ADDRESS)\n",
    "result.address"
   ]
  },
  {
   "cell_type": "code",
   "execution_count": null,
   "metadata": {},
   "outputs": [],
   "source": [
    "result.raw"
   ]
  },
  {
   "cell_type": "markdown",
   "metadata": {},
   "source": [
    "## Geocoder\n",
    "\n",
    "Another library to consider is `geocoder`.\n",
    "\n",
    "https://geocoder.readthedocs.io/"
   ]
  },
  {
   "cell_type": "code",
   "execution_count": null,
   "metadata": {},
   "outputs": [],
   "source": [
    "import geocoder\n",
    "\n",
    "result = geocoder.here(TEST_ADDRESS, app_id=APP_ID_HERE, app_code=APP_CODE_HERE)\n",
    "result.latlng"
   ]
  },
  {
   "cell_type": "markdown",
   "metadata": {},
   "source": [
    "## GeoPandas\n",
    "\n",
    "GeoPandas is another powerful library that provides geocoding methods.\n",
    "\n",
    "http://geopandas.org/geocoding.html"
   ]
  },
  {
   "cell_type": "code",
   "execution_count": null,
   "metadata": {},
   "outputs": [],
   "source": [
    "import geopandas\n",
    "\n",
    "result = geopandas.tools.geocode(TEST_ADDRESS, provider='Here', app_id=APP_ID_HERE, app_code=APP_CODE_HERE)\n",
    "result"
   ]
  },
  {
   "cell_type": "markdown",
   "metadata": {},
   "source": [
    "# More Examples\n",
    "\n",
    "Depending on your use case the underlying Geocoding APIs from HERE can give much finer level control over the results and how you might use it."
   ]
  },
  {
   "cell_type": "code",
   "execution_count": null,
   "metadata": {},
   "outputs": [],
   "source": [
    "GEOCODER_URI = 'https://geocoder.api.here.com/6.2/geocode.json'\n",
    "REVERSE_GEOCODER_URI = 'https://reverse.geocoder.api.here.com/6.2/reversegeocode.json'"
   ]
  },
  {
   "cell_type": "markdown",
   "metadata": {},
   "source": [
    "## Bounding Box\n",
    "\n",
    "When displaying a map you may already have a viewport that allows you to search for partial matches within that area."
   ]
  },
  {
   "cell_type": "code",
   "execution_count": null,
   "metadata": {},
   "outputs": [],
   "source": [
    "params = {\n",
    "    'app_id': APP_ID_HERE,\n",
    "    'app_code': APP_CODE_HERE,\n",
    "    'mapview': '42.3902,-71.1293;42.3312,-71.0228',\n",
    "    'searchtext': '1 main'\n",
    "}\n",
    "\n",
    "response = requests.get(GEOCODER_URI, params=params)\n",
    "response.json()"
   ]
  },
  {
   "cell_type": "markdown",
   "metadata": {},
   "source": [
    "## Address By Parts\n",
    "\n",
    "You may know specific parts of the street address and want to do some marginal address validation."
   ]
  },
  {
   "cell_type": "code",
   "execution_count": null,
   "metadata": {},
   "outputs": [],
   "source": [
    "params = {\n",
    "    'app_id': APP_ID_HERE,\n",
    "    'app_code': APP_CODE_HERE,\n",
    "    'housenumber': '427',\n",
    "    'street': 'randolph',\n",
    "    'city': 'chicago'\n",
    "}\n",
    "\n",
    "response = requests.get(GEOCODER_URI, params=params)\n",
    "response.json()"
   ]
  },
  {
   "cell_type": "markdown",
   "metadata": {},
   "source": [
    "## Street Intersection\n",
    "\n",
    "You may not be looking for a specific building footprint but rather a roadway or intersection."
   ]
  },
  {
   "cell_type": "code",
   "execution_count": null,
   "metadata": {},
   "outputs": [],
   "source": [
    "params = {\n",
    "    'app_id': APP_ID_HERE,\n",
    "    'app_code': APP_CODE_HERE,\n",
    "    'street': 'invaliden @ chaussee',\n",
    "    'city': 'berlin',\n",
    "    'country': 'germany'\n",
    "}\n",
    "\n",
    "response = requests.get(GEOCODER_URI, params=params)\n",
    "response.json()"
   ]
  },
  {
   "cell_type": "markdown",
   "metadata": {},
   "source": [
    "## Reverse Geocode\n",
    "\n",
    "HERE provides a positioning API that can be used to find an approximate latitude and longitude based on GPS, Cell Towers, and WiFi access points as part of a radio map database.\n",
    "\n",
    "If you have a lat, long you can reverse geocode to identify a street address."
   ]
  },
  {
   "cell_type": "code",
   "execution_count": null,
   "metadata": {},
   "outputs": [],
   "source": [
    "params = {\n",
    "    'app_id': APP_ID_HERE,\n",
    "    'app_code': APP_CODE_HERE,\n",
    "    'prox': '41.504,-81.6941,250',\n",
    "    'mode': 'retrieveAddresses',\n",
    "    'maxresults': '1'\n",
    "}\n",
    "\n",
    "response = requests.get(REVERSE_GEOCODER_URI, params=params)\n",
    "response.json()['Response']['View'][0]['Result'][0]['Location']"
   ]
  },
  {
   "cell_type": "markdown",
   "metadata": {},
   "source": [
    "## Shape Geometry\n",
    "\n",
    "The geocoder can also retrieve geometry representing the border of a particular area such as a zip code.  See Python below that you can work with or that this webapp also demonstrates.\n",
    "\n",
    "https://dbabbs.github.io/geojson-shape-tool/"
   ]
  },
  {
   "cell_type": "code",
   "execution_count": null,
   "metadata": {},
   "outputs": [],
   "source": [
    "import shapely.wkt\n",
    "\n",
    "params = {\n",
    "    'app_id': APP_ID_HERE,\n",
    "    'app_code': APP_CODE_HERE,\n",
    "    'prox': '41.504,-81.6941,250',\n",
    "    'mode': 'retrieveAddresses',\n",
    "    'maxresults': '1',\n",
    "    'additionaldata': 'IncludeShapeLevel,postalCode'\n",
    "}\n",
    "\n",
    "response = requests.get(REVERSE_GEOCODER_URI, params=params)\n",
    "shp = response.json()['Response']['View'][0]['Result'][0]['Location']['Shape']['Value']\n",
    "shapely.wkt.loads(shp)"
   ]
  }
 ],
 "metadata": {
  "kernelspec": {
   "display_name": "Python 3",
   "language": "python",
   "name": "python3"
  },
  "language_info": {
   "codemirror_mode": {
    "name": "ipython",
    "version": 3
   },
   "file_extension": ".py",
   "mimetype": "text/x-python",
   "name": "python",
   "nbconvert_exporter": "python",
   "pygments_lexer": "ipython3",
   "version": "3.7.0"
  }
 },
 "nbformat": 4,
 "nbformat_minor": 2
}
